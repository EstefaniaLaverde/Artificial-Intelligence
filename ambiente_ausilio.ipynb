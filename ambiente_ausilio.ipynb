{
  "cells": [
    {
      "cell_type": "markdown",
      "id": "838e158b-1fe2-4c44-8200-105e05a4d540",
      "metadata": {
        "id": "838e158b-1fe2-4c44-8200-105e05a4d540"
      },
      "source": [
        "\n",
        "# AMBIENTE"
      ]
    },
    {
      "cell_type": "code",
      "execution_count": 23,
      "id": "qhJi8vVhnEDR",
      "metadata": {
        "id": "qhJi8vVhnEDR"
      },
      "outputs": [],
      "source": [
        "# self.coords = {'Usaquen':[4.73349, -74.0273],\n",
        "#                     'Chapinero':[4.6453552,-74.0619385],\n",
        "#                     'Santa fe':[4.63142,-74.0594],\n",
        "#                     'San Cristobal':[4.5687863,-74.0950182],\n",
        "#                     'Usme':[4.47067,-74.1261],\n",
        "#                     'Tunjuelito':[4.58233,-74.1321],\n",
        "#                     'Bosa':[4.61706,-74.1899],\n",
        "#                     'Kennedy':[4.6435,  -74.1533],\n",
        "#                     'Fontibon':[4.6732943,-74.1447464],\n",
        "#                     'Engativa':[ 4.7086571,-74.109647],\n",
        "#                     'Suba':[4.7466362,-74.0956029],\n",
        "#                     'Barrios Unidos':[4.67866, -74.0787]}"
      ]
    },
    {
      "cell_type": "code",
      "execution_count": 2,
      "id": "zdgFGabEcM1o",
      "metadata": {
        "id": "zdgFGabEcM1o"
      },
      "outputs": [
        {
          "name": "stderr",
          "output_type": "stream",
          "text": [
            "C:\\Users\\k513eq\\AppData\\Local\\Packages\\PythonSoftwareFoundation.Python.3.9_qbz5n2kfra8p0\\LocalCache\\local-packages\\Python39\\site-packages\\scipy\\__init__.py:146: UserWarning: A NumPy version >=1.16.5 and <1.23.0 is required for this version of SciPy (detected version 1.23.2\n",
            "  warnings.warn(f\"A NumPy version >={np_minversion} and <{np_maxversion}\"\n"
          ]
        }
      ],
      "source": [
        "#LIbrerias uwu\n",
        "import copy\n",
        "import math\n",
        "import numpy as np \n",
        "import pandas as pd\n",
        "import matplotlib.pyplot as plt\n",
        "import plotly.express as px\n",
        "import plotly.graph_objects as go\n",
        "import warnings\n",
        "import random\n",
        "from time import sleep\n",
        "from IPython.display import clear_output\n",
        "from busqueda import *\n",
        "from tiempos import *\n",
        "warnings.filterwarnings('ignore')"
      ]
    },
    {
      "cell_type": "code",
      "execution_count": 3,
      "id": "H7JLpFzTHsLc",
      "metadata": {
        "id": "H7JLpFzTHsLc"
      },
      "outputs": [],
      "source": [
        "#FUNCIONES UTILES UWU\n",
        "\n",
        "def haversine(p1, p2):\n",
        "  phi_1,lambda_1 = p1[0],p1[1]\n",
        "  phi_2,lambda_2 = p2[0],p2[1]\n",
        "\n",
        "  R = 6371e3\n",
        "\n",
        "  delta_phi = abs(phi_1 - phi_2)\n",
        "  delta_lambda = abs(lambda_1 - lambda_2)\n",
        "\n",
        "  a = math.sin(math.radians(delta_phi / 2))**2 + math.cos(math.radians(phi_1))*math.cos(math.radians(phi_2))*math.sin(math.radians(delta_lambda / 2))**2\n",
        "  c = 2 * math.atan2(math.sqrt(a), math.sqrt(1-a))\n",
        "\n",
        "  d = (R*c)/1000\n",
        "  return d\n",
        "\n",
        "class Vendedor:\n",
        "    # @Autores: Isabella Martinez Martinez y Estefania Laverde Becerra\n",
        "\n",
        "    def __init__(self, localidad):\n",
        "        self.estado_inicial = [localidad]\n",
        "        self.coords = {'Usaquen':[4.73349, -74.0273],\n",
        "                    'Chapinero':[4.6453552,-74.0619385],\n",
        "                    'Santa fe':[4.63142,-74.0594],\n",
        "                    'Suba':[4.7466362,-74.0956029],\n",
        "                    'Usme':[4.47067,-74.1261],\n",
        "                    'Bosa':[4.61706,-74.1899],\n",
        "                    'Tunjuelito':[4.58233,-74.1321],\n",
        "                    'San Cristobal':[4.5687863,-74.0950182]}\n",
        "\n",
        "        self.rutas = {}\n",
        "        for localidad_1 in self.coords.keys():\n",
        "            self.rutas[localidad_1] = {}\n",
        "            for localidad_2 in self.coords.keys():\n",
        "                if localidad_2 != localidad_1:\n",
        "                    self.rutas[localidad_1][localidad_2] = haversine(self.coords[localidad_1], self.coords[localidad_2])\n",
        "\n",
        "        self.localidades = list(self.coords.keys())\n",
        "        self.df = (pd.DataFrame(self.coords)).transpose()\n",
        "        self.df.columns = [ 'latitude','longitude']\n",
        "\n",
        "        self.tk = 'pk.eyJ1IjoiZXN0ZWZhbmlhbGF2ZXJkZSIsImEiOiJjbDZ1emwwbXIxNjlpM2lxOXcybm93enphIn0.lFL91CtkpIqnRmgvnGacZA'\n",
        "        \n",
        "\n",
        "    def pintar_estado(self,estado):\n",
        "        px.set_mapbox_access_token(self.tk)\n",
        "        fig = px.scatter_mapbox(self.df, \n",
        "                            lat = self.df['latitude'],\n",
        "                            lon = self.df['longitude'],\n",
        "                            hover_name = list(self.df.index))\n",
        "        fig.update_traces(marker={'size': 15, 'color':'#a3b18a'})\n",
        "        fig.update_layout(margin ={'l':0,'t':0,'b':0,'r':0},\n",
        "                        mapbox = {'zoom': 10},\n",
        "                        width=900,\n",
        "                        height=600,)\n",
        "        \n",
        "        for i in range(len(estado) - 1):\n",
        "            long_ = [self.df.loc[estado[i]]['longitude'], self.df.loc[estado[i+1]]['longitude']]\n",
        "            lati = [self.df.loc[estado[i]]['latitude'], self.df.loc[estado[i+1]]['latitude']]\n",
        "\n",
        "            fig.add_trace(go.Scattermapbox(mode=\"markers+lines\",\n",
        "                text = [estado[i], estado[i+1]],\n",
        "                lon = long_,\n",
        "                lat = lati,\n",
        "                marker = {'size': 15, 'color':'#dda15e'}))\n",
        "        fig.update(layout_showlegend = False)\n",
        "        fig.show()\n",
        "        \n",
        "\n",
        "    def pintar_camino(self, camino):\n",
        "        # Input: lista con caminos de estado. Pej ['Usaquen','Santa  fe','Usme']\n",
        "        # Output: figura con el camino\n",
        "        estado = [camino.pop(0)]\n",
        "        \n",
        "        while len(camino) > 0:\n",
        "            clear_output(wait=True)\n",
        "            self.pintar_estado(estado)\n",
        "            sleep(2)\n",
        "            estado += [camino.pop(0)]\n",
        "        clear_output(wait=True)\n",
        "        self.pintar_estado(estado)\n",
        "\n",
        "    def acciones_aplicables(self, estado):\n",
        "        # INPUT: localidad en la que se encuentra el agente\n",
        "        # OUTPUT: Lista con localidades no visitadas\n",
        "        return [localidad for localidad in self.localidades if localidad not in estado]\n",
        "    \n",
        "    def transicion(self,estado, accion):\n",
        "        # INPUT: estado - localidad en la que se encuentra el agente\n",
        "            #    accion - desplazamiento\n",
        "        # OUTPUT: Copia de la lista estado actualizada\n",
        "        lista = copy.deepcopy(estado)\n",
        "        lista.append(accion)\n",
        "        return lista\n",
        "\n",
        "    def test_objetivo(self, estado):\n",
        "        \"\"\" Verifica si ya fueron visitadas todas las localidades\n",
        "            Input: estado (lista con el camino)\n",
        "            Output: Boolean \"\"\"\n",
        "        return set(self.localidades) == set(estado)\n",
        "\n",
        "    def codigo(self, estado):\n",
        "        \"\"\" Actualiza el codigo\n",
        "            Input: estado (lista con el camino)\n",
        "            Output: cadena \"\"\"\n",
        "        cad = \"\"\n",
        "        for i in estado:\n",
        "            cad = cad + \" - \" + i\n",
        "        return cad\n",
        "\n",
        "    def costo(self, estado, accion):\n",
        "        \"\"\" Peso entre el estado y la accion\n",
        "            Input: estado (camino actual)\n",
        "                   accion (desplazamiento)\n",
        "            Output: Int \"\"\"\n",
        "        loc = self.rutas[estado[-1]]\n",
        "        return loc[accion]\n",
        "\n",
        "    def obtener_peso(self, localidad_1, localidad_2):\n",
        "        \"\"\" Retorna el peso entre dos localidades\n",
        "            Input: estado1, estado2, localidades\n",
        "            Output: Int, distancia entre ambas localidades\"\"\"\n",
        "        loc = self.rutas[localidad_1]\n",
        "        return loc[localidad_2]\n",
        "\n",
        "    def distancia_faltante(self,estado):\n",
        "        suma = 0\n",
        "        for loc in self.localidades:\n",
        "            if loc not in estado:\n",
        "                suma += self.rutas[estado[-1]][loc]\n",
        "        return suma "
      ]
    },
    {
      "cell_type": "code",
      "execution_count": 4,
      "id": "PGuGfuNeM4M-",
      "metadata": {
        "id": "PGuGfuNeM4M-"
      },
      "outputs": [],
      "source": [
        "problema = Vendedor('Usaquen')"
      ]
    },
    {
      "cell_type": "markdown",
      "id": "kgS92UPGMCso",
      "metadata": {
        "id": "kgS92UPGMCso"
      },
      "source": [
        "#METODO: BEST_FIRST"
      ]
    },
    {
      "cell_type": "code",
      "execution_count": 5,
      "id": "qrK4e5LeRlf-",
      "metadata": {
        "colab": {
          "base_uri": "https://localhost:8080/"
        },
        "id": "qrK4e5LeRlf-",
        "outputId": "5f3b9832-5146-42f8-e6fb-ba24cba6b669"
      },
      "outputs": [
        {
          "name": "stdout",
          "output_type": "stream",
          "text": [
            "Camino a recorrer:  ['Usaquen', 'Suba', 'Chapinero', 'Santa fe', 'San Cristobal', 'Tunjuelito', 'Bosa', 'Usme', 'Usaquen']\n",
            "El peso final es:  89.96701496805008 km\n"
          ]
        }
      ],
      "source": [
        "l = best_first_search(problema)\n",
        "camino = solucion(l)\n",
        "\n",
        "if l is not None:\n",
        "    camino_final = problema.estado_inicial + solucion(l) + problema.estado_inicial\n",
        "    print(\"Camino a recorrer: \", camino_final)\n",
        "    print(\"El peso final es: \", l.costo_camino + problema.obtener_peso(solucion(l)[-1], problema.estado_inicial[0]), 'km')\n",
        "else:\n",
        "    print(\"No hay solución!\")"
      ]
    },
    {
      "cell_type": "code",
      "execution_count": 6,
      "id": "U40lKLOgjU4W",
      "metadata": {
        "colab": {
          "base_uri": "https://localhost:8080/",
          "height": 637
        },
        "id": "U40lKLOgjU4W",
        "outputId": "98544d55-4f71-4dd6-edae-e4243dfb4fff"
      },
      "outputs": [
        {
          "data": {
            "application/vnd.plotly.v1+json": {
              "config": {
                "plotlyServerURL": "https://plot.ly"
              },
              "data": [
                {
                  "hovertemplate": "<b>%{hovertext}</b><br><br>latitude=%{lat}<br>longitude=%{lon}<extra></extra>",
                  "hovertext": [
                    "Usaquen",
                    "Chapinero",
                    "Santa fe",
                    "Suba",
                    "Usme",
                    "Bosa",
                    "Tunjuelito",
                    "San Cristobal"
                  ],
                  "lat": [
                    4.73349,
                    4.6453552,
                    4.63142,
                    4.7466362,
                    4.47067,
                    4.61706,
                    4.58233,
                    4.5687863
                  ],
                  "legendgroup": "",
                  "lon": [
                    -74.0273,
                    -74.0619385,
                    -74.0594,
                    -74.0956029,
                    -74.1261,
                    -74.1899,
                    -74.1321,
                    -74.0950182
                  ],
                  "marker": {
                    "color": "#a3b18a",
                    "size": 15
                  },
                  "mode": "markers",
                  "name": "",
                  "showlegend": false,
                  "subplot": "mapbox",
                  "type": "scattermapbox"
                },
                {
                  "lat": [
                    4.73349,
                    4.7466362
                  ],
                  "lon": [
                    -74.0273,
                    -74.0956029
                  ],
                  "marker": {
                    "color": "#dda15e",
                    "size": 15
                  },
                  "mode": "markers+lines",
                  "text": [
                    "Usaquen",
                    "Suba"
                  ],
                  "type": "scattermapbox"
                },
                {
                  "lat": [
                    4.7466362,
                    4.6453552
                  ],
                  "lon": [
                    -74.0956029,
                    -74.0619385
                  ],
                  "marker": {
                    "color": "#dda15e",
                    "size": 15
                  },
                  "mode": "markers+lines",
                  "text": [
                    "Suba",
                    "Chapinero"
                  ],
                  "type": "scattermapbox"
                },
                {
                  "lat": [
                    4.6453552,
                    4.63142
                  ],
                  "lon": [
                    -74.0619385,
                    -74.0594
                  ],
                  "marker": {
                    "color": "#dda15e",
                    "size": 15
                  },
                  "mode": "markers+lines",
                  "text": [
                    "Chapinero",
                    "Santa fe"
                  ],
                  "type": "scattermapbox"
                },
                {
                  "lat": [
                    4.63142,
                    4.5687863
                  ],
                  "lon": [
                    -74.0594,
                    -74.0950182
                  ],
                  "marker": {
                    "color": "#dda15e",
                    "size": 15
                  },
                  "mode": "markers+lines",
                  "text": [
                    "Santa fe",
                    "San Cristobal"
                  ],
                  "type": "scattermapbox"
                },
                {
                  "lat": [
                    4.5687863,
                    4.58233
                  ],
                  "lon": [
                    -74.0950182,
                    -74.1321
                  ],
                  "marker": {
                    "color": "#dda15e",
                    "size": 15
                  },
                  "mode": "markers+lines",
                  "text": [
                    "San Cristobal",
                    "Tunjuelito"
                  ],
                  "type": "scattermapbox"
                },
                {
                  "lat": [
                    4.58233,
                    4.61706
                  ],
                  "lon": [
                    -74.1321,
                    -74.1899
                  ],
                  "marker": {
                    "color": "#dda15e",
                    "size": 15
                  },
                  "mode": "markers+lines",
                  "text": [
                    "Tunjuelito",
                    "Bosa"
                  ],
                  "type": "scattermapbox"
                },
                {
                  "lat": [
                    4.61706,
                    4.47067
                  ],
                  "lon": [
                    -74.1899,
                    -74.1261
                  ],
                  "marker": {
                    "color": "#dda15e",
                    "size": 15
                  },
                  "mode": "markers+lines",
                  "text": [
                    "Bosa",
                    "Usme"
                  ],
                  "type": "scattermapbox"
                },
                {
                  "lat": [
                    4.47067,
                    4.73349
                  ],
                  "lon": [
                    -74.1261,
                    -74.0273
                  ],
                  "marker": {
                    "color": "#dda15e",
                    "size": 15
                  },
                  "mode": "markers+lines",
                  "text": [
                    "Usme",
                    "Usaquen"
                  ],
                  "type": "scattermapbox"
                }
              ],
              "layout": {
                "height": 600,
                "legend": {
                  "tracegroupgap": 0
                },
                "mapbox": {
                  "accesstoken": "pk.eyJ1IjoiZXN0ZWZhbmlhbGF2ZXJkZSIsImEiOiJjbDZ1emwwbXIxNjlpM2lxOXcybm93enphIn0.lFL91CtkpIqnRmgvnGacZA",
                  "center": {
                    "lat": 4.624468462499999,
                    "lon": -74.09841995
                  },
                  "domain": {
                    "x": [
                      0,
                      1
                    ],
                    "y": [
                      0,
                      1
                    ]
                  },
                  "zoom": 10
                },
                "margin": {
                  "b": 0,
                  "l": 0,
                  "r": 0,
                  "t": 0
                },
                "showlegend": false,
                "template": {
                  "data": {
                    "bar": [
                      {
                        "error_x": {
                          "color": "#2a3f5f"
                        },
                        "error_y": {
                          "color": "#2a3f5f"
                        },
                        "marker": {
                          "line": {
                            "color": "#E5ECF6",
                            "width": 0.5
                          },
                          "pattern": {
                            "fillmode": "overlay",
                            "size": 10,
                            "solidity": 0.2
                          }
                        },
                        "type": "bar"
                      }
                    ],
                    "barpolar": [
                      {
                        "marker": {
                          "line": {
                            "color": "#E5ECF6",
                            "width": 0.5
                          },
                          "pattern": {
                            "fillmode": "overlay",
                            "size": 10,
                            "solidity": 0.2
                          }
                        },
                        "type": "barpolar"
                      }
                    ],
                    "carpet": [
                      {
                        "aaxis": {
                          "endlinecolor": "#2a3f5f",
                          "gridcolor": "white",
                          "linecolor": "white",
                          "minorgridcolor": "white",
                          "startlinecolor": "#2a3f5f"
                        },
                        "baxis": {
                          "endlinecolor": "#2a3f5f",
                          "gridcolor": "white",
                          "linecolor": "white",
                          "minorgridcolor": "white",
                          "startlinecolor": "#2a3f5f"
                        },
                        "type": "carpet"
                      }
                    ],
                    "choropleth": [
                      {
                        "colorbar": {
                          "outlinewidth": 0,
                          "ticks": ""
                        },
                        "type": "choropleth"
                      }
                    ],
                    "contour": [
                      {
                        "colorbar": {
                          "outlinewidth": 0,
                          "ticks": ""
                        },
                        "colorscale": [
                          [
                            0,
                            "#0d0887"
                          ],
                          [
                            0.1111111111111111,
                            "#46039f"
                          ],
                          [
                            0.2222222222222222,
                            "#7201a8"
                          ],
                          [
                            0.3333333333333333,
                            "#9c179e"
                          ],
                          [
                            0.4444444444444444,
                            "#bd3786"
                          ],
                          [
                            0.5555555555555556,
                            "#d8576b"
                          ],
                          [
                            0.6666666666666666,
                            "#ed7953"
                          ],
                          [
                            0.7777777777777778,
                            "#fb9f3a"
                          ],
                          [
                            0.8888888888888888,
                            "#fdca26"
                          ],
                          [
                            1,
                            "#f0f921"
                          ]
                        ],
                        "type": "contour"
                      }
                    ],
                    "contourcarpet": [
                      {
                        "colorbar": {
                          "outlinewidth": 0,
                          "ticks": ""
                        },
                        "type": "contourcarpet"
                      }
                    ],
                    "heatmap": [
                      {
                        "colorbar": {
                          "outlinewidth": 0,
                          "ticks": ""
                        },
                        "colorscale": [
                          [
                            0,
                            "#0d0887"
                          ],
                          [
                            0.1111111111111111,
                            "#46039f"
                          ],
                          [
                            0.2222222222222222,
                            "#7201a8"
                          ],
                          [
                            0.3333333333333333,
                            "#9c179e"
                          ],
                          [
                            0.4444444444444444,
                            "#bd3786"
                          ],
                          [
                            0.5555555555555556,
                            "#d8576b"
                          ],
                          [
                            0.6666666666666666,
                            "#ed7953"
                          ],
                          [
                            0.7777777777777778,
                            "#fb9f3a"
                          ],
                          [
                            0.8888888888888888,
                            "#fdca26"
                          ],
                          [
                            1,
                            "#f0f921"
                          ]
                        ],
                        "type": "heatmap"
                      }
                    ],
                    "heatmapgl": [
                      {
                        "colorbar": {
                          "outlinewidth": 0,
                          "ticks": ""
                        },
                        "colorscale": [
                          [
                            0,
                            "#0d0887"
                          ],
                          [
                            0.1111111111111111,
                            "#46039f"
                          ],
                          [
                            0.2222222222222222,
                            "#7201a8"
                          ],
                          [
                            0.3333333333333333,
                            "#9c179e"
                          ],
                          [
                            0.4444444444444444,
                            "#bd3786"
                          ],
                          [
                            0.5555555555555556,
                            "#d8576b"
                          ],
                          [
                            0.6666666666666666,
                            "#ed7953"
                          ],
                          [
                            0.7777777777777778,
                            "#fb9f3a"
                          ],
                          [
                            0.8888888888888888,
                            "#fdca26"
                          ],
                          [
                            1,
                            "#f0f921"
                          ]
                        ],
                        "type": "heatmapgl"
                      }
                    ],
                    "histogram": [
                      {
                        "marker": {
                          "pattern": {
                            "fillmode": "overlay",
                            "size": 10,
                            "solidity": 0.2
                          }
                        },
                        "type": "histogram"
                      }
                    ],
                    "histogram2d": [
                      {
                        "colorbar": {
                          "outlinewidth": 0,
                          "ticks": ""
                        },
                        "colorscale": [
                          [
                            0,
                            "#0d0887"
                          ],
                          [
                            0.1111111111111111,
                            "#46039f"
                          ],
                          [
                            0.2222222222222222,
                            "#7201a8"
                          ],
                          [
                            0.3333333333333333,
                            "#9c179e"
                          ],
                          [
                            0.4444444444444444,
                            "#bd3786"
                          ],
                          [
                            0.5555555555555556,
                            "#d8576b"
                          ],
                          [
                            0.6666666666666666,
                            "#ed7953"
                          ],
                          [
                            0.7777777777777778,
                            "#fb9f3a"
                          ],
                          [
                            0.8888888888888888,
                            "#fdca26"
                          ],
                          [
                            1,
                            "#f0f921"
                          ]
                        ],
                        "type": "histogram2d"
                      }
                    ],
                    "histogram2dcontour": [
                      {
                        "colorbar": {
                          "outlinewidth": 0,
                          "ticks": ""
                        },
                        "colorscale": [
                          [
                            0,
                            "#0d0887"
                          ],
                          [
                            0.1111111111111111,
                            "#46039f"
                          ],
                          [
                            0.2222222222222222,
                            "#7201a8"
                          ],
                          [
                            0.3333333333333333,
                            "#9c179e"
                          ],
                          [
                            0.4444444444444444,
                            "#bd3786"
                          ],
                          [
                            0.5555555555555556,
                            "#d8576b"
                          ],
                          [
                            0.6666666666666666,
                            "#ed7953"
                          ],
                          [
                            0.7777777777777778,
                            "#fb9f3a"
                          ],
                          [
                            0.8888888888888888,
                            "#fdca26"
                          ],
                          [
                            1,
                            "#f0f921"
                          ]
                        ],
                        "type": "histogram2dcontour"
                      }
                    ],
                    "mesh3d": [
                      {
                        "colorbar": {
                          "outlinewidth": 0,
                          "ticks": ""
                        },
                        "type": "mesh3d"
                      }
                    ],
                    "parcoords": [
                      {
                        "line": {
                          "colorbar": {
                            "outlinewidth": 0,
                            "ticks": ""
                          }
                        },
                        "type": "parcoords"
                      }
                    ],
                    "pie": [
                      {
                        "automargin": true,
                        "type": "pie"
                      }
                    ],
                    "scatter": [
                      {
                        "fillpattern": {
                          "fillmode": "overlay",
                          "size": 10,
                          "solidity": 0.2
                        },
                        "type": "scatter"
                      }
                    ],
                    "scatter3d": [
                      {
                        "line": {
                          "colorbar": {
                            "outlinewidth": 0,
                            "ticks": ""
                          }
                        },
                        "marker": {
                          "colorbar": {
                            "outlinewidth": 0,
                            "ticks": ""
                          }
                        },
                        "type": "scatter3d"
                      }
                    ],
                    "scattercarpet": [
                      {
                        "marker": {
                          "colorbar": {
                            "outlinewidth": 0,
                            "ticks": ""
                          }
                        },
                        "type": "scattercarpet"
                      }
                    ],
                    "scattergeo": [
                      {
                        "marker": {
                          "colorbar": {
                            "outlinewidth": 0,
                            "ticks": ""
                          }
                        },
                        "type": "scattergeo"
                      }
                    ],
                    "scattergl": [
                      {
                        "marker": {
                          "colorbar": {
                            "outlinewidth": 0,
                            "ticks": ""
                          }
                        },
                        "type": "scattergl"
                      }
                    ],
                    "scattermapbox": [
                      {
                        "marker": {
                          "colorbar": {
                            "outlinewidth": 0,
                            "ticks": ""
                          }
                        },
                        "type": "scattermapbox"
                      }
                    ],
                    "scatterpolar": [
                      {
                        "marker": {
                          "colorbar": {
                            "outlinewidth": 0,
                            "ticks": ""
                          }
                        },
                        "type": "scatterpolar"
                      }
                    ],
                    "scatterpolargl": [
                      {
                        "marker": {
                          "colorbar": {
                            "outlinewidth": 0,
                            "ticks": ""
                          }
                        },
                        "type": "scatterpolargl"
                      }
                    ],
                    "scatterternary": [
                      {
                        "marker": {
                          "colorbar": {
                            "outlinewidth": 0,
                            "ticks": ""
                          }
                        },
                        "type": "scatterternary"
                      }
                    ],
                    "surface": [
                      {
                        "colorbar": {
                          "outlinewidth": 0,
                          "ticks": ""
                        },
                        "colorscale": [
                          [
                            0,
                            "#0d0887"
                          ],
                          [
                            0.1111111111111111,
                            "#46039f"
                          ],
                          [
                            0.2222222222222222,
                            "#7201a8"
                          ],
                          [
                            0.3333333333333333,
                            "#9c179e"
                          ],
                          [
                            0.4444444444444444,
                            "#bd3786"
                          ],
                          [
                            0.5555555555555556,
                            "#d8576b"
                          ],
                          [
                            0.6666666666666666,
                            "#ed7953"
                          ],
                          [
                            0.7777777777777778,
                            "#fb9f3a"
                          ],
                          [
                            0.8888888888888888,
                            "#fdca26"
                          ],
                          [
                            1,
                            "#f0f921"
                          ]
                        ],
                        "type": "surface"
                      }
                    ],
                    "table": [
                      {
                        "cells": {
                          "fill": {
                            "color": "#EBF0F8"
                          },
                          "line": {
                            "color": "white"
                          }
                        },
                        "header": {
                          "fill": {
                            "color": "#C8D4E3"
                          },
                          "line": {
                            "color": "white"
                          }
                        },
                        "type": "table"
                      }
                    ]
                  },
                  "layout": {
                    "annotationdefaults": {
                      "arrowcolor": "#2a3f5f",
                      "arrowhead": 0,
                      "arrowwidth": 1
                    },
                    "autotypenumbers": "strict",
                    "coloraxis": {
                      "colorbar": {
                        "outlinewidth": 0,
                        "ticks": ""
                      }
                    },
                    "colorscale": {
                      "diverging": [
                        [
                          0,
                          "#8e0152"
                        ],
                        [
                          0.1,
                          "#c51b7d"
                        ],
                        [
                          0.2,
                          "#de77ae"
                        ],
                        [
                          0.3,
                          "#f1b6da"
                        ],
                        [
                          0.4,
                          "#fde0ef"
                        ],
                        [
                          0.5,
                          "#f7f7f7"
                        ],
                        [
                          0.6,
                          "#e6f5d0"
                        ],
                        [
                          0.7,
                          "#b8e186"
                        ],
                        [
                          0.8,
                          "#7fbc41"
                        ],
                        [
                          0.9,
                          "#4d9221"
                        ],
                        [
                          1,
                          "#276419"
                        ]
                      ],
                      "sequential": [
                        [
                          0,
                          "#0d0887"
                        ],
                        [
                          0.1111111111111111,
                          "#46039f"
                        ],
                        [
                          0.2222222222222222,
                          "#7201a8"
                        ],
                        [
                          0.3333333333333333,
                          "#9c179e"
                        ],
                        [
                          0.4444444444444444,
                          "#bd3786"
                        ],
                        [
                          0.5555555555555556,
                          "#d8576b"
                        ],
                        [
                          0.6666666666666666,
                          "#ed7953"
                        ],
                        [
                          0.7777777777777778,
                          "#fb9f3a"
                        ],
                        [
                          0.8888888888888888,
                          "#fdca26"
                        ],
                        [
                          1,
                          "#f0f921"
                        ]
                      ],
                      "sequentialminus": [
                        [
                          0,
                          "#0d0887"
                        ],
                        [
                          0.1111111111111111,
                          "#46039f"
                        ],
                        [
                          0.2222222222222222,
                          "#7201a8"
                        ],
                        [
                          0.3333333333333333,
                          "#9c179e"
                        ],
                        [
                          0.4444444444444444,
                          "#bd3786"
                        ],
                        [
                          0.5555555555555556,
                          "#d8576b"
                        ],
                        [
                          0.6666666666666666,
                          "#ed7953"
                        ],
                        [
                          0.7777777777777778,
                          "#fb9f3a"
                        ],
                        [
                          0.8888888888888888,
                          "#fdca26"
                        ],
                        [
                          1,
                          "#f0f921"
                        ]
                      ]
                    },
                    "colorway": [
                      "#636efa",
                      "#EF553B",
                      "#00cc96",
                      "#ab63fa",
                      "#FFA15A",
                      "#19d3f3",
                      "#FF6692",
                      "#B6E880",
                      "#FF97FF",
                      "#FECB52"
                    ],
                    "font": {
                      "color": "#2a3f5f"
                    },
                    "geo": {
                      "bgcolor": "white",
                      "lakecolor": "white",
                      "landcolor": "#E5ECF6",
                      "showlakes": true,
                      "showland": true,
                      "subunitcolor": "white"
                    },
                    "hoverlabel": {
                      "align": "left"
                    },
                    "hovermode": "closest",
                    "mapbox": {
                      "style": "light"
                    },
                    "paper_bgcolor": "white",
                    "plot_bgcolor": "#E5ECF6",
                    "polar": {
                      "angularaxis": {
                        "gridcolor": "white",
                        "linecolor": "white",
                        "ticks": ""
                      },
                      "bgcolor": "#E5ECF6",
                      "radialaxis": {
                        "gridcolor": "white",
                        "linecolor": "white",
                        "ticks": ""
                      }
                    },
                    "scene": {
                      "xaxis": {
                        "backgroundcolor": "#E5ECF6",
                        "gridcolor": "white",
                        "gridwidth": 2,
                        "linecolor": "white",
                        "showbackground": true,
                        "ticks": "",
                        "zerolinecolor": "white"
                      },
                      "yaxis": {
                        "backgroundcolor": "#E5ECF6",
                        "gridcolor": "white",
                        "gridwidth": 2,
                        "linecolor": "white",
                        "showbackground": true,
                        "ticks": "",
                        "zerolinecolor": "white"
                      },
                      "zaxis": {
                        "backgroundcolor": "#E5ECF6",
                        "gridcolor": "white",
                        "gridwidth": 2,
                        "linecolor": "white",
                        "showbackground": true,
                        "ticks": "",
                        "zerolinecolor": "white"
                      }
                    },
                    "shapedefaults": {
                      "line": {
                        "color": "#2a3f5f"
                      }
                    },
                    "ternary": {
                      "aaxis": {
                        "gridcolor": "white",
                        "linecolor": "white",
                        "ticks": ""
                      },
                      "baxis": {
                        "gridcolor": "white",
                        "linecolor": "white",
                        "ticks": ""
                      },
                      "bgcolor": "#E5ECF6",
                      "caxis": {
                        "gridcolor": "white",
                        "linecolor": "white",
                        "ticks": ""
                      }
                    },
                    "title": {
                      "x": 0.05
                    },
                    "xaxis": {
                      "automargin": true,
                      "gridcolor": "white",
                      "linecolor": "white",
                      "ticks": "",
                      "title": {
                        "standoff": 15
                      },
                      "zerolinecolor": "white",
                      "zerolinewidth": 2
                    },
                    "yaxis": {
                      "automargin": true,
                      "gridcolor": "white",
                      "linecolor": "white",
                      "ticks": "",
                      "title": {
                        "standoff": 15
                      },
                      "zerolinecolor": "white",
                      "zerolinewidth": 2
                    }
                  }
                },
                "width": 900
              }
            }
          },
          "metadata": {},
          "output_type": "display_data"
        }
      ],
      "source": [
        "problema.pintar_camino(camino_final)"
      ]
    },
    {
      "cell_type": "markdown",
      "id": "FbZgiK6jJo2M",
      "metadata": {
        "id": "FbZgiK6jJo2M"
      },
      "source": [
        "# METODO: BREADTH_FIRST "
      ]
    },
    {
      "cell_type": "code",
      "execution_count": 7,
      "id": "dQywhN3uJ1tm",
      "metadata": {
        "colab": {
          "base_uri": "https://localhost:8080/"
        },
        "id": "dQywhN3uJ1tm",
        "outputId": "765bd75e-8adf-496c-9418-c1c87b2dd617"
      },
      "outputs": [
        {
          "name": "stdout",
          "output_type": "stream",
          "text": [
            "Camino a recorrer:  ['Usaquen', 'Chapinero', 'Santa fe', 'Suba', 'Usme', 'Bosa', 'Tunjuelito', 'San Cristobal', 'Usaquen']\n",
            "El peso final es:  105.79436223231653 km\n"
          ]
        }
      ],
      "source": [
        "l = breadth_first_search(problema)\n",
        "camino = solucion(l)\n",
        "\n",
        "if l is not None:\n",
        "    camino_final = problema.estado_inicial + solucion(l) + problema.estado_inicial\n",
        "    print(\"Camino a recorrer: \", camino_final)\n",
        "    print(\"El peso final es: \", l.costo_camino + problema.obtener_peso(solucion(l)[-1], problema.estado_inicial[0]), 'km')\n",
        "else:\n",
        "    print(\"No hay solución!\")"
      ]
    },
    {
      "cell_type": "code",
      "execution_count": 8,
      "id": "_-RI5M2RKWD4",
      "metadata": {
        "colab": {
          "base_uri": "https://localhost:8080/",
          "height": 637
        },
        "id": "_-RI5M2RKWD4",
        "outputId": "0184a16e-5e66-406e-84e5-971e72c6b881"
      },
      "outputs": [],
      "source": [
        "#Pintar solución :D\n",
        "#problema.pintar_camino(camino_final)"
      ]
    },
    {
      "cell_type": "markdown",
      "id": "uTyu2vgqLWxa",
      "metadata": {
        "id": "uTyu2vgqLWxa"
      },
      "source": [
        "# METODO: DEPTH_FIRST"
      ]
    },
    {
      "cell_type": "markdown",
      "id": "GOnTRcWWOU1H",
      "metadata": {
        "id": "GOnTRcWWOU1H"
      },
      "source": []
    },
    {
      "cell_type": "code",
      "execution_count": 9,
      "id": "77B7A-qcLbHB",
      "metadata": {
        "colab": {
          "base_uri": "https://localhost:8080/"
        },
        "id": "77B7A-qcLbHB",
        "outputId": "be8ac6fa-490e-4862-a63f-1c2118b5489f"
      },
      "outputs": [
        {
          "name": "stdout",
          "output_type": "stream",
          "text": [
            "Camino a recorrer:  ['Usaquen', 'San Cristobal', 'Tunjuelito', 'Bosa', 'Usme', 'Suba', 'Santa fe', 'Chapinero', 'Usaquen']\n",
            "El peso final es:  105.79436223231654 km\n"
          ]
        }
      ],
      "source": [
        "l = depth_first_search(problema)\n",
        "camino = solucion(l)\n",
        "\n",
        "if l is not None:\n",
        "    camino_final = problema.estado_inicial + solucion(l) + problema.estado_inicial\n",
        "    print(\"Camino a recorrer: \", camino_final)\n",
        "    print(\"El peso final es: \", l.costo_camino + problema.obtener_peso(solucion(l)[-1], problema.estado_inicial[0]), 'km')\n",
        "else:\n",
        "    print(\"No hay solución!\")"
      ]
    },
    {
      "cell_type": "code",
      "execution_count": 10,
      "id": "MIxTJ3vDLigK",
      "metadata": {
        "id": "MIxTJ3vDLigK"
      },
      "outputs": [],
      "source": [
        "#Pintar solución :D\n",
        "# problema.pintar_camino(camino_final)"
      ]
    },
    {
      "cell_type": "markdown",
      "id": "ctRAA2hXKikC",
      "metadata": {
        "id": "ctRAA2hXKikC"
      },
      "source": [
        "#METODO: DEPTH_LIMITED"
      ]
    },
    {
      "cell_type": "code",
      "execution_count": 11,
      "id": "s5NVbTuXKwWm",
      "metadata": {
        "colab": {
          "base_uri": "https://localhost:8080/"
        },
        "id": "s5NVbTuXKwWm",
        "outputId": "99f71036-5c77-4a71-92f9-66d49725e62f"
      },
      "outputs": [
        {
          "name": "stdout",
          "output_type": "stream",
          "text": [
            "Camino a recorrer:  ['Usaquen', 'San Cristobal', 'Tunjuelito', 'Bosa', 'Usme', 'Suba', 'Santa fe', 'Chapinero', 'Usaquen']\n",
            "El peso final es:  105.79436223231654 km\n"
          ]
        }
      ],
      "source": [
        "l = depth_limited_search(problema, 10)\n",
        "camino = solucion(l)\n",
        "\n",
        "if l is not None:\n",
        "    camino_final = problema.estado_inicial + solucion(l) + problema.estado_inicial\n",
        "    print(\"Camino a recorrer: \", camino_final)\n",
        "    print(\"El peso final es: \", l.costo_camino + problema.obtener_peso(solucion(l)[-1], problema.estado_inicial[0]), 'km')\n",
        "else:\n",
        "    print(\"No hay solución!\")"
      ]
    },
    {
      "cell_type": "code",
      "execution_count": 12,
      "id": "36tjhqulK_GW",
      "metadata": {
        "id": "36tjhqulK_GW"
      },
      "outputs": [],
      "source": [
        "#Pintar solución :D\n",
        "# problema.pintar_camino(camino_final)"
      ]
    },
    {
      "cell_type": "markdown",
      "id": "oHezj3ZRLOIn",
      "metadata": {
        "id": "oHezj3ZRLOIn"
      },
      "source": [
        "# METODO ITERATIVE DEEPENING"
      ]
    },
    {
      "cell_type": "code",
      "execution_count": 13,
      "id": "UcjSr9RnLR3j",
      "metadata": {
        "colab": {
          "base_uri": "https://localhost:8080/"
        },
        "id": "UcjSr9RnLR3j",
        "outputId": "be1f6d19-d5eb-49cd-8f03-cc8b50cf318f"
      },
      "outputs": [
        {
          "name": "stdout",
          "output_type": "stream",
          "text": [
            "Camino a recorrer:  ['Usaquen', 'San Cristobal', 'Tunjuelito', 'Bosa', 'Usme', 'Suba', 'Santa fe', 'Chapinero', 'Usaquen']\n",
            "El peso final es:  105.79436223231654 km\n"
          ]
        }
      ],
      "source": [
        "l = iterative_deepening_search(problema, 100)\n",
        "camino = solucion(l)\n",
        "\n",
        "if l is not None:\n",
        "    camino_final = problema.estado_inicial + solucion(l) + problema.estado_inicial\n",
        "    print(\"Camino a recorrer: \", camino_final)\n",
        "    print(\"El peso final es: \", l.costo_camino + problema.obtener_peso(solucion(l)[-1], problema.estado_inicial[0]), 'km')\n",
        "else:\n",
        "    print(\"No hay solución!\")"
      ]
    },
    {
      "cell_type": "code",
      "execution_count": 14,
      "id": "NaKMB_ghL2wF",
      "metadata": {
        "id": "NaKMB_ghL2wF"
      },
      "outputs": [],
      "source": [
        "#Pintar solución :D\n",
        "# problema.pintar_camino(camino_final)"
      ]
    },
    {
      "cell_type": "markdown",
      "id": "_kn2tkt0UWIq",
      "metadata": {
        "id": "_kn2tkt0UWIq"
      },
      "source": [
        "#A STAR"
      ]
    },
    {
      "cell_type": "code",
      "execution_count": 15,
      "id": "F9RtpeMiUYtN",
      "metadata": {
        "id": "F9RtpeMiUYtN"
      },
      "outputs": [],
      "source": [
        "from types import MethodType\n",
        "\n",
        "def A_star(problema, f, g=None):\n",
        "    if g != None:\n",
        "        problema.costo = MethodType(g, problema)\n",
        "    s = problema.estado_inicial\n",
        "    cod = problema.codigo(s)\n",
        "    nodo = Nodo(s, None, None, 0, cod)\n",
        "    v = f(s)\n",
        "    frontera = ListaPrioritaria()\n",
        "    frontera.push(nodo, v)\n",
        "    explorados = {}\n",
        "    explorados[cod] = v\n",
        "    while not frontera.is_empty():\n",
        "        nodo = frontera.pop()\n",
        "        if problema.test_objetivo(nodo.estado):\n",
        "            return nodo\n",
        "        for hijo in expand(problema, nodo):\n",
        "            s = hijo.estado\n",
        "            cod = problema.codigo(s)\n",
        "            c = hijo.costo_camino + f(s)\n",
        "            if (cod not in explorados.keys()) or (c < explorados[cod]):\n",
        "                frontera.push(hijo, c)\n",
        "                explorados[cod] = c\n",
        "    return None"
      ]
    },
    {
      "cell_type": "code",
      "execution_count": 16,
      "id": "Bd30-AsQUgkF",
      "metadata": {
        "id": "Bd30-AsQUgkF"
      },
      "outputs": [],
      "source": [
        "l = A_star(problema, f=problema.distancia_faltante, g=None)"
      ]
    },
    {
      "cell_type": "code",
      "execution_count": 17,
      "id": "eEHmRuR-Wocc",
      "metadata": {
        "colab": {
          "base_uri": "https://localhost:8080/"
        },
        "id": "eEHmRuR-Wocc",
        "outputId": "51834bbf-45f2-4c84-993f-a3fd69dcaa5d"
      },
      "outputs": [
        {
          "name": "stdout",
          "output_type": "stream",
          "text": [
            "Camino a recorrer:  ['Usaquen', 'Chapinero', 'Santa fe', 'San Cristobal', 'Tunjuelito', 'Bosa', 'Usme', 'Suba', 'Usaquen']\n",
            "El peso final es:  88.29147019129611 km\n"
          ]
        }
      ],
      "source": [
        "camino = solucion(l)\n",
        "\n",
        "if l is not None:\n",
        "    camino_final = problema.estado_inicial + solucion(l) + problema.estado_inicial\n",
        "    print(\"Camino a recorrer: \", camino_final)\n",
        "    print(\"El peso final es: \", l.costo_camino + problema.obtener_peso(solucion(l)[-1], problema.estado_inicial[0]), 'km')\n",
        "else:\n",
        "    print(\"No hay solución!\")"
      ]
    },
    {
      "cell_type": "code",
      "execution_count": 18,
      "id": "U26mZ1JGW32Z",
      "metadata": {
        "colab": {
          "base_uri": "https://localhost:8080/",
          "height": 637
        },
        "id": "U26mZ1JGW32Z",
        "outputId": "b5adf6f2-0240-419d-c6ca-59979440da1f"
      },
      "outputs": [
        {
          "data": {
            "application/vnd.plotly.v1+json": {
              "config": {
                "plotlyServerURL": "https://plot.ly"
              },
              "data": [
                {
                  "hovertemplate": "<b>%{hovertext}</b><br><br>latitude=%{lat}<br>longitude=%{lon}<extra></extra>",
                  "hovertext": [
                    "Usaquen",
                    "Chapinero",
                    "Santa fe",
                    "Suba",
                    "Usme",
                    "Bosa",
                    "Tunjuelito",
                    "San Cristobal"
                  ],
                  "lat": [
                    4.73349,
                    4.6453552,
                    4.63142,
                    4.7466362,
                    4.47067,
                    4.61706,
                    4.58233,
                    4.5687863
                  ],
                  "legendgroup": "",
                  "lon": [
                    -74.0273,
                    -74.0619385,
                    -74.0594,
                    -74.0956029,
                    -74.1261,
                    -74.1899,
                    -74.1321,
                    -74.0950182
                  ],
                  "marker": {
                    "color": "#a3b18a",
                    "size": 15
                  },
                  "mode": "markers",
                  "name": "",
                  "showlegend": false,
                  "subplot": "mapbox",
                  "type": "scattermapbox"
                },
                {
                  "lat": [
                    4.73349,
                    4.6453552
                  ],
                  "lon": [
                    -74.0273,
                    -74.0619385
                  ],
                  "marker": {
                    "color": "#dda15e",
                    "size": 15
                  },
                  "mode": "markers+lines",
                  "text": [
                    "Usaquen",
                    "Chapinero"
                  ],
                  "type": "scattermapbox"
                },
                {
                  "lat": [
                    4.6453552,
                    4.63142
                  ],
                  "lon": [
                    -74.0619385,
                    -74.0594
                  ],
                  "marker": {
                    "color": "#dda15e",
                    "size": 15
                  },
                  "mode": "markers+lines",
                  "text": [
                    "Chapinero",
                    "Santa fe"
                  ],
                  "type": "scattermapbox"
                },
                {
                  "lat": [
                    4.63142,
                    4.5687863
                  ],
                  "lon": [
                    -74.0594,
                    -74.0950182
                  ],
                  "marker": {
                    "color": "#dda15e",
                    "size": 15
                  },
                  "mode": "markers+lines",
                  "text": [
                    "Santa fe",
                    "San Cristobal"
                  ],
                  "type": "scattermapbox"
                },
                {
                  "lat": [
                    4.5687863,
                    4.58233
                  ],
                  "lon": [
                    -74.0950182,
                    -74.1321
                  ],
                  "marker": {
                    "color": "#dda15e",
                    "size": 15
                  },
                  "mode": "markers+lines",
                  "text": [
                    "San Cristobal",
                    "Tunjuelito"
                  ],
                  "type": "scattermapbox"
                },
                {
                  "lat": [
                    4.58233,
                    4.61706
                  ],
                  "lon": [
                    -74.1321,
                    -74.1899
                  ],
                  "marker": {
                    "color": "#dda15e",
                    "size": 15
                  },
                  "mode": "markers+lines",
                  "text": [
                    "Tunjuelito",
                    "Bosa"
                  ],
                  "type": "scattermapbox"
                },
                {
                  "lat": [
                    4.61706,
                    4.47067
                  ],
                  "lon": [
                    -74.1899,
                    -74.1261
                  ],
                  "marker": {
                    "color": "#dda15e",
                    "size": 15
                  },
                  "mode": "markers+lines",
                  "text": [
                    "Bosa",
                    "Usme"
                  ],
                  "type": "scattermapbox"
                },
                {
                  "lat": [
                    4.47067,
                    4.7466362
                  ],
                  "lon": [
                    -74.1261,
                    -74.0956029
                  ],
                  "marker": {
                    "color": "#dda15e",
                    "size": 15
                  },
                  "mode": "markers+lines",
                  "text": [
                    "Usme",
                    "Suba"
                  ],
                  "type": "scattermapbox"
                },
                {
                  "lat": [
                    4.7466362,
                    4.73349
                  ],
                  "lon": [
                    -74.0956029,
                    -74.0273
                  ],
                  "marker": {
                    "color": "#dda15e",
                    "size": 15
                  },
                  "mode": "markers+lines",
                  "text": [
                    "Suba",
                    "Usaquen"
                  ],
                  "type": "scattermapbox"
                }
              ],
              "layout": {
                "height": 600,
                "legend": {
                  "tracegroupgap": 0
                },
                "mapbox": {
                  "accesstoken": "pk.eyJ1IjoiZXN0ZWZhbmlhbGF2ZXJkZSIsImEiOiJjbDZ1emwwbXIxNjlpM2lxOXcybm93enphIn0.lFL91CtkpIqnRmgvnGacZA",
                  "center": {
                    "lat": 4.624468462499999,
                    "lon": -74.09841995
                  },
                  "domain": {
                    "x": [
                      0,
                      1
                    ],
                    "y": [
                      0,
                      1
                    ]
                  },
                  "zoom": 10
                },
                "margin": {
                  "b": 0,
                  "l": 0,
                  "r": 0,
                  "t": 0
                },
                "showlegend": false,
                "template": {
                  "data": {
                    "bar": [
                      {
                        "error_x": {
                          "color": "#2a3f5f"
                        },
                        "error_y": {
                          "color": "#2a3f5f"
                        },
                        "marker": {
                          "line": {
                            "color": "#E5ECF6",
                            "width": 0.5
                          },
                          "pattern": {
                            "fillmode": "overlay",
                            "size": 10,
                            "solidity": 0.2
                          }
                        },
                        "type": "bar"
                      }
                    ],
                    "barpolar": [
                      {
                        "marker": {
                          "line": {
                            "color": "#E5ECF6",
                            "width": 0.5
                          },
                          "pattern": {
                            "fillmode": "overlay",
                            "size": 10,
                            "solidity": 0.2
                          }
                        },
                        "type": "barpolar"
                      }
                    ],
                    "carpet": [
                      {
                        "aaxis": {
                          "endlinecolor": "#2a3f5f",
                          "gridcolor": "white",
                          "linecolor": "white",
                          "minorgridcolor": "white",
                          "startlinecolor": "#2a3f5f"
                        },
                        "baxis": {
                          "endlinecolor": "#2a3f5f",
                          "gridcolor": "white",
                          "linecolor": "white",
                          "minorgridcolor": "white",
                          "startlinecolor": "#2a3f5f"
                        },
                        "type": "carpet"
                      }
                    ],
                    "choropleth": [
                      {
                        "colorbar": {
                          "outlinewidth": 0,
                          "ticks": ""
                        },
                        "type": "choropleth"
                      }
                    ],
                    "contour": [
                      {
                        "colorbar": {
                          "outlinewidth": 0,
                          "ticks": ""
                        },
                        "colorscale": [
                          [
                            0,
                            "#0d0887"
                          ],
                          [
                            0.1111111111111111,
                            "#46039f"
                          ],
                          [
                            0.2222222222222222,
                            "#7201a8"
                          ],
                          [
                            0.3333333333333333,
                            "#9c179e"
                          ],
                          [
                            0.4444444444444444,
                            "#bd3786"
                          ],
                          [
                            0.5555555555555556,
                            "#d8576b"
                          ],
                          [
                            0.6666666666666666,
                            "#ed7953"
                          ],
                          [
                            0.7777777777777778,
                            "#fb9f3a"
                          ],
                          [
                            0.8888888888888888,
                            "#fdca26"
                          ],
                          [
                            1,
                            "#f0f921"
                          ]
                        ],
                        "type": "contour"
                      }
                    ],
                    "contourcarpet": [
                      {
                        "colorbar": {
                          "outlinewidth": 0,
                          "ticks": ""
                        },
                        "type": "contourcarpet"
                      }
                    ],
                    "heatmap": [
                      {
                        "colorbar": {
                          "outlinewidth": 0,
                          "ticks": ""
                        },
                        "colorscale": [
                          [
                            0,
                            "#0d0887"
                          ],
                          [
                            0.1111111111111111,
                            "#46039f"
                          ],
                          [
                            0.2222222222222222,
                            "#7201a8"
                          ],
                          [
                            0.3333333333333333,
                            "#9c179e"
                          ],
                          [
                            0.4444444444444444,
                            "#bd3786"
                          ],
                          [
                            0.5555555555555556,
                            "#d8576b"
                          ],
                          [
                            0.6666666666666666,
                            "#ed7953"
                          ],
                          [
                            0.7777777777777778,
                            "#fb9f3a"
                          ],
                          [
                            0.8888888888888888,
                            "#fdca26"
                          ],
                          [
                            1,
                            "#f0f921"
                          ]
                        ],
                        "type": "heatmap"
                      }
                    ],
                    "heatmapgl": [
                      {
                        "colorbar": {
                          "outlinewidth": 0,
                          "ticks": ""
                        },
                        "colorscale": [
                          [
                            0,
                            "#0d0887"
                          ],
                          [
                            0.1111111111111111,
                            "#46039f"
                          ],
                          [
                            0.2222222222222222,
                            "#7201a8"
                          ],
                          [
                            0.3333333333333333,
                            "#9c179e"
                          ],
                          [
                            0.4444444444444444,
                            "#bd3786"
                          ],
                          [
                            0.5555555555555556,
                            "#d8576b"
                          ],
                          [
                            0.6666666666666666,
                            "#ed7953"
                          ],
                          [
                            0.7777777777777778,
                            "#fb9f3a"
                          ],
                          [
                            0.8888888888888888,
                            "#fdca26"
                          ],
                          [
                            1,
                            "#f0f921"
                          ]
                        ],
                        "type": "heatmapgl"
                      }
                    ],
                    "histogram": [
                      {
                        "marker": {
                          "pattern": {
                            "fillmode": "overlay",
                            "size": 10,
                            "solidity": 0.2
                          }
                        },
                        "type": "histogram"
                      }
                    ],
                    "histogram2d": [
                      {
                        "colorbar": {
                          "outlinewidth": 0,
                          "ticks": ""
                        },
                        "colorscale": [
                          [
                            0,
                            "#0d0887"
                          ],
                          [
                            0.1111111111111111,
                            "#46039f"
                          ],
                          [
                            0.2222222222222222,
                            "#7201a8"
                          ],
                          [
                            0.3333333333333333,
                            "#9c179e"
                          ],
                          [
                            0.4444444444444444,
                            "#bd3786"
                          ],
                          [
                            0.5555555555555556,
                            "#d8576b"
                          ],
                          [
                            0.6666666666666666,
                            "#ed7953"
                          ],
                          [
                            0.7777777777777778,
                            "#fb9f3a"
                          ],
                          [
                            0.8888888888888888,
                            "#fdca26"
                          ],
                          [
                            1,
                            "#f0f921"
                          ]
                        ],
                        "type": "histogram2d"
                      }
                    ],
                    "histogram2dcontour": [
                      {
                        "colorbar": {
                          "outlinewidth": 0,
                          "ticks": ""
                        },
                        "colorscale": [
                          [
                            0,
                            "#0d0887"
                          ],
                          [
                            0.1111111111111111,
                            "#46039f"
                          ],
                          [
                            0.2222222222222222,
                            "#7201a8"
                          ],
                          [
                            0.3333333333333333,
                            "#9c179e"
                          ],
                          [
                            0.4444444444444444,
                            "#bd3786"
                          ],
                          [
                            0.5555555555555556,
                            "#d8576b"
                          ],
                          [
                            0.6666666666666666,
                            "#ed7953"
                          ],
                          [
                            0.7777777777777778,
                            "#fb9f3a"
                          ],
                          [
                            0.8888888888888888,
                            "#fdca26"
                          ],
                          [
                            1,
                            "#f0f921"
                          ]
                        ],
                        "type": "histogram2dcontour"
                      }
                    ],
                    "mesh3d": [
                      {
                        "colorbar": {
                          "outlinewidth": 0,
                          "ticks": ""
                        },
                        "type": "mesh3d"
                      }
                    ],
                    "parcoords": [
                      {
                        "line": {
                          "colorbar": {
                            "outlinewidth": 0,
                            "ticks": ""
                          }
                        },
                        "type": "parcoords"
                      }
                    ],
                    "pie": [
                      {
                        "automargin": true,
                        "type": "pie"
                      }
                    ],
                    "scatter": [
                      {
                        "fillpattern": {
                          "fillmode": "overlay",
                          "size": 10,
                          "solidity": 0.2
                        },
                        "type": "scatter"
                      }
                    ],
                    "scatter3d": [
                      {
                        "line": {
                          "colorbar": {
                            "outlinewidth": 0,
                            "ticks": ""
                          }
                        },
                        "marker": {
                          "colorbar": {
                            "outlinewidth": 0,
                            "ticks": ""
                          }
                        },
                        "type": "scatter3d"
                      }
                    ],
                    "scattercarpet": [
                      {
                        "marker": {
                          "colorbar": {
                            "outlinewidth": 0,
                            "ticks": ""
                          }
                        },
                        "type": "scattercarpet"
                      }
                    ],
                    "scattergeo": [
                      {
                        "marker": {
                          "colorbar": {
                            "outlinewidth": 0,
                            "ticks": ""
                          }
                        },
                        "type": "scattergeo"
                      }
                    ],
                    "scattergl": [
                      {
                        "marker": {
                          "colorbar": {
                            "outlinewidth": 0,
                            "ticks": ""
                          }
                        },
                        "type": "scattergl"
                      }
                    ],
                    "scattermapbox": [
                      {
                        "marker": {
                          "colorbar": {
                            "outlinewidth": 0,
                            "ticks": ""
                          }
                        },
                        "type": "scattermapbox"
                      }
                    ],
                    "scatterpolar": [
                      {
                        "marker": {
                          "colorbar": {
                            "outlinewidth": 0,
                            "ticks": ""
                          }
                        },
                        "type": "scatterpolar"
                      }
                    ],
                    "scatterpolargl": [
                      {
                        "marker": {
                          "colorbar": {
                            "outlinewidth": 0,
                            "ticks": ""
                          }
                        },
                        "type": "scatterpolargl"
                      }
                    ],
                    "scatterternary": [
                      {
                        "marker": {
                          "colorbar": {
                            "outlinewidth": 0,
                            "ticks": ""
                          }
                        },
                        "type": "scatterternary"
                      }
                    ],
                    "surface": [
                      {
                        "colorbar": {
                          "outlinewidth": 0,
                          "ticks": ""
                        },
                        "colorscale": [
                          [
                            0,
                            "#0d0887"
                          ],
                          [
                            0.1111111111111111,
                            "#46039f"
                          ],
                          [
                            0.2222222222222222,
                            "#7201a8"
                          ],
                          [
                            0.3333333333333333,
                            "#9c179e"
                          ],
                          [
                            0.4444444444444444,
                            "#bd3786"
                          ],
                          [
                            0.5555555555555556,
                            "#d8576b"
                          ],
                          [
                            0.6666666666666666,
                            "#ed7953"
                          ],
                          [
                            0.7777777777777778,
                            "#fb9f3a"
                          ],
                          [
                            0.8888888888888888,
                            "#fdca26"
                          ],
                          [
                            1,
                            "#f0f921"
                          ]
                        ],
                        "type": "surface"
                      }
                    ],
                    "table": [
                      {
                        "cells": {
                          "fill": {
                            "color": "#EBF0F8"
                          },
                          "line": {
                            "color": "white"
                          }
                        },
                        "header": {
                          "fill": {
                            "color": "#C8D4E3"
                          },
                          "line": {
                            "color": "white"
                          }
                        },
                        "type": "table"
                      }
                    ]
                  },
                  "layout": {
                    "annotationdefaults": {
                      "arrowcolor": "#2a3f5f",
                      "arrowhead": 0,
                      "arrowwidth": 1
                    },
                    "autotypenumbers": "strict",
                    "coloraxis": {
                      "colorbar": {
                        "outlinewidth": 0,
                        "ticks": ""
                      }
                    },
                    "colorscale": {
                      "diverging": [
                        [
                          0,
                          "#8e0152"
                        ],
                        [
                          0.1,
                          "#c51b7d"
                        ],
                        [
                          0.2,
                          "#de77ae"
                        ],
                        [
                          0.3,
                          "#f1b6da"
                        ],
                        [
                          0.4,
                          "#fde0ef"
                        ],
                        [
                          0.5,
                          "#f7f7f7"
                        ],
                        [
                          0.6,
                          "#e6f5d0"
                        ],
                        [
                          0.7,
                          "#b8e186"
                        ],
                        [
                          0.8,
                          "#7fbc41"
                        ],
                        [
                          0.9,
                          "#4d9221"
                        ],
                        [
                          1,
                          "#276419"
                        ]
                      ],
                      "sequential": [
                        [
                          0,
                          "#0d0887"
                        ],
                        [
                          0.1111111111111111,
                          "#46039f"
                        ],
                        [
                          0.2222222222222222,
                          "#7201a8"
                        ],
                        [
                          0.3333333333333333,
                          "#9c179e"
                        ],
                        [
                          0.4444444444444444,
                          "#bd3786"
                        ],
                        [
                          0.5555555555555556,
                          "#d8576b"
                        ],
                        [
                          0.6666666666666666,
                          "#ed7953"
                        ],
                        [
                          0.7777777777777778,
                          "#fb9f3a"
                        ],
                        [
                          0.8888888888888888,
                          "#fdca26"
                        ],
                        [
                          1,
                          "#f0f921"
                        ]
                      ],
                      "sequentialminus": [
                        [
                          0,
                          "#0d0887"
                        ],
                        [
                          0.1111111111111111,
                          "#46039f"
                        ],
                        [
                          0.2222222222222222,
                          "#7201a8"
                        ],
                        [
                          0.3333333333333333,
                          "#9c179e"
                        ],
                        [
                          0.4444444444444444,
                          "#bd3786"
                        ],
                        [
                          0.5555555555555556,
                          "#d8576b"
                        ],
                        [
                          0.6666666666666666,
                          "#ed7953"
                        ],
                        [
                          0.7777777777777778,
                          "#fb9f3a"
                        ],
                        [
                          0.8888888888888888,
                          "#fdca26"
                        ],
                        [
                          1,
                          "#f0f921"
                        ]
                      ]
                    },
                    "colorway": [
                      "#636efa",
                      "#EF553B",
                      "#00cc96",
                      "#ab63fa",
                      "#FFA15A",
                      "#19d3f3",
                      "#FF6692",
                      "#B6E880",
                      "#FF97FF",
                      "#FECB52"
                    ],
                    "font": {
                      "color": "#2a3f5f"
                    },
                    "geo": {
                      "bgcolor": "white",
                      "lakecolor": "white",
                      "landcolor": "#E5ECF6",
                      "showlakes": true,
                      "showland": true,
                      "subunitcolor": "white"
                    },
                    "hoverlabel": {
                      "align": "left"
                    },
                    "hovermode": "closest",
                    "mapbox": {
                      "style": "light"
                    },
                    "paper_bgcolor": "white",
                    "plot_bgcolor": "#E5ECF6",
                    "polar": {
                      "angularaxis": {
                        "gridcolor": "white",
                        "linecolor": "white",
                        "ticks": ""
                      },
                      "bgcolor": "#E5ECF6",
                      "radialaxis": {
                        "gridcolor": "white",
                        "linecolor": "white",
                        "ticks": ""
                      }
                    },
                    "scene": {
                      "xaxis": {
                        "backgroundcolor": "#E5ECF6",
                        "gridcolor": "white",
                        "gridwidth": 2,
                        "linecolor": "white",
                        "showbackground": true,
                        "ticks": "",
                        "zerolinecolor": "white"
                      },
                      "yaxis": {
                        "backgroundcolor": "#E5ECF6",
                        "gridcolor": "white",
                        "gridwidth": 2,
                        "linecolor": "white",
                        "showbackground": true,
                        "ticks": "",
                        "zerolinecolor": "white"
                      },
                      "zaxis": {
                        "backgroundcolor": "#E5ECF6",
                        "gridcolor": "white",
                        "gridwidth": 2,
                        "linecolor": "white",
                        "showbackground": true,
                        "ticks": "",
                        "zerolinecolor": "white"
                      }
                    },
                    "shapedefaults": {
                      "line": {
                        "color": "#2a3f5f"
                      }
                    },
                    "ternary": {
                      "aaxis": {
                        "gridcolor": "white",
                        "linecolor": "white",
                        "ticks": ""
                      },
                      "baxis": {
                        "gridcolor": "white",
                        "linecolor": "white",
                        "ticks": ""
                      },
                      "bgcolor": "#E5ECF6",
                      "caxis": {
                        "gridcolor": "white",
                        "linecolor": "white",
                        "ticks": ""
                      }
                    },
                    "title": {
                      "x": 0.05
                    },
                    "xaxis": {
                      "automargin": true,
                      "gridcolor": "white",
                      "linecolor": "white",
                      "ticks": "",
                      "title": {
                        "standoff": 15
                      },
                      "zerolinecolor": "white",
                      "zerolinewidth": 2
                    },
                    "yaxis": {
                      "automargin": true,
                      "gridcolor": "white",
                      "linecolor": "white",
                      "ticks": "",
                      "title": {
                        "standoff": 15
                      },
                      "zerolinecolor": "white",
                      "zerolinewidth": 2
                    }
                  }
                },
                "width": 900
              }
            }
          },
          "metadata": {},
          "output_type": "display_data"
        }
      ],
      "source": [
        "problema.pintar_camino(camino_final)"
      ]
    },
    {
      "cell_type": "markdown",
      "id": "fJY-CkTdZMHq",
      "metadata": {
        "id": "fJY-CkTdZMHq"
      },
      "source": [
        "#MOETODO: GREEDY_SEARCH"
      ]
    },
    {
      "cell_type": "code",
      "execution_count": 19,
      "id": "7t8YDvOGZOcb",
      "metadata": {
        "colab": {
          "base_uri": "https://localhost:8080/"
        },
        "id": "7t8YDvOGZOcb",
        "outputId": "b6e6ebaa-537e-4d1a-a668-6e6bd5513f1b"
      },
      "outputs": [
        {
          "name": "stdout",
          "output_type": "stream",
          "text": [
            "Camino a recorrer:  ['Usaquen', 'Tunjuelito', 'Santa fe', 'San Cristobal', 'Chapinero', 'Bosa', 'Usme', 'Suba', 'Usaquen']\n",
            "El peso final es:  118.2941575519633 km\n"
          ]
        }
      ],
      "source": [
        "l = greedy_search(problema, f=problema.distancia_faltante)\n",
        "camino = solucion(l)\n",
        "\n",
        "if l is not None:\n",
        "    camino_final = problema.estado_inicial + solucion(l) + problema.estado_inicial\n",
        "    print(\"Camino a recorrer: \", camino_final)\n",
        "    print(\"El peso final es: \", l.costo_camino + problema.obtener_peso(solucion(l)[-1], problema.estado_inicial[0]), 'km')\n",
        "else:\n",
        "    print(\"No hay solución!\")"
      ]
    },
    {
      "cell_type": "code",
      "execution_count": 20,
      "id": "OZcxQU9eZ41U",
      "metadata": {
        "colab": {
          "base_uri": "https://localhost:8080/",
          "height": 637
        },
        "id": "OZcxQU9eZ41U",
        "outputId": "290e4bfc-c67e-4b4d-9b0c-d62402d10332"
      },
      "outputs": [
        {
          "data": {
            "application/vnd.plotly.v1+json": {
              "config": {
                "plotlyServerURL": "https://plot.ly"
              },
              "data": [
                {
                  "hovertemplate": "<b>%{hovertext}</b><br><br>latitude=%{lat}<br>longitude=%{lon}<extra></extra>",
                  "hovertext": [
                    "Usaquen",
                    "Chapinero",
                    "Santa fe",
                    "Suba",
                    "Usme",
                    "Bosa",
                    "Tunjuelito",
                    "San Cristobal"
                  ],
                  "lat": [
                    4.73349,
                    4.6453552,
                    4.63142,
                    4.7466362,
                    4.47067,
                    4.61706,
                    4.58233,
                    4.5687863
                  ],
                  "legendgroup": "",
                  "lon": [
                    -74.0273,
                    -74.0619385,
                    -74.0594,
                    -74.0956029,
                    -74.1261,
                    -74.1899,
                    -74.1321,
                    -74.0950182
                  ],
                  "marker": {
                    "color": "#a3b18a",
                    "size": 15
                  },
                  "mode": "markers",
                  "name": "",
                  "showlegend": false,
                  "subplot": "mapbox",
                  "type": "scattermapbox"
                },
                {
                  "lat": [
                    4.73349,
                    4.58233
                  ],
                  "lon": [
                    -74.0273,
                    -74.1321
                  ],
                  "marker": {
                    "color": "#dda15e",
                    "size": 15
                  },
                  "mode": "markers+lines",
                  "text": [
                    "Usaquen",
                    "Tunjuelito"
                  ],
                  "type": "scattermapbox"
                },
                {
                  "lat": [
                    4.58233,
                    4.63142
                  ],
                  "lon": [
                    -74.1321,
                    -74.0594
                  ],
                  "marker": {
                    "color": "#dda15e",
                    "size": 15
                  },
                  "mode": "markers+lines",
                  "text": [
                    "Tunjuelito",
                    "Santa fe"
                  ],
                  "type": "scattermapbox"
                },
                {
                  "lat": [
                    4.63142,
                    4.5687863
                  ],
                  "lon": [
                    -74.0594,
                    -74.0950182
                  ],
                  "marker": {
                    "color": "#dda15e",
                    "size": 15
                  },
                  "mode": "markers+lines",
                  "text": [
                    "Santa fe",
                    "San Cristobal"
                  ],
                  "type": "scattermapbox"
                },
                {
                  "lat": [
                    4.5687863,
                    4.6453552
                  ],
                  "lon": [
                    -74.0950182,
                    -74.0619385
                  ],
                  "marker": {
                    "color": "#dda15e",
                    "size": 15
                  },
                  "mode": "markers+lines",
                  "text": [
                    "San Cristobal",
                    "Chapinero"
                  ],
                  "type": "scattermapbox"
                },
                {
                  "lat": [
                    4.6453552,
                    4.61706
                  ],
                  "lon": [
                    -74.0619385,
                    -74.1899
                  ],
                  "marker": {
                    "color": "#dda15e",
                    "size": 15
                  },
                  "mode": "markers+lines",
                  "text": [
                    "Chapinero",
                    "Bosa"
                  ],
                  "type": "scattermapbox"
                },
                {
                  "lat": [
                    4.61706,
                    4.47067
                  ],
                  "lon": [
                    -74.1899,
                    -74.1261
                  ],
                  "marker": {
                    "color": "#dda15e",
                    "size": 15
                  },
                  "mode": "markers+lines",
                  "text": [
                    "Bosa",
                    "Usme"
                  ],
                  "type": "scattermapbox"
                },
                {
                  "lat": [
                    4.47067,
                    4.7466362
                  ],
                  "lon": [
                    -74.1261,
                    -74.0956029
                  ],
                  "marker": {
                    "color": "#dda15e",
                    "size": 15
                  },
                  "mode": "markers+lines",
                  "text": [
                    "Usme",
                    "Suba"
                  ],
                  "type": "scattermapbox"
                },
                {
                  "lat": [
                    4.7466362,
                    4.73349
                  ],
                  "lon": [
                    -74.0956029,
                    -74.0273
                  ],
                  "marker": {
                    "color": "#dda15e",
                    "size": 15
                  },
                  "mode": "markers+lines",
                  "text": [
                    "Suba",
                    "Usaquen"
                  ],
                  "type": "scattermapbox"
                }
              ],
              "layout": {
                "height": 600,
                "legend": {
                  "tracegroupgap": 0
                },
                "mapbox": {
                  "accesstoken": "pk.eyJ1IjoiZXN0ZWZhbmlhbGF2ZXJkZSIsImEiOiJjbDZ1emwwbXIxNjlpM2lxOXcybm93enphIn0.lFL91CtkpIqnRmgvnGacZA",
                  "center": {
                    "lat": 4.624468462499999,
                    "lon": -74.09841995
                  },
                  "domain": {
                    "x": [
                      0,
                      1
                    ],
                    "y": [
                      0,
                      1
                    ]
                  },
                  "zoom": 10
                },
                "margin": {
                  "b": 0,
                  "l": 0,
                  "r": 0,
                  "t": 0
                },
                "showlegend": false,
                "template": {
                  "data": {
                    "bar": [
                      {
                        "error_x": {
                          "color": "#2a3f5f"
                        },
                        "error_y": {
                          "color": "#2a3f5f"
                        },
                        "marker": {
                          "line": {
                            "color": "#E5ECF6",
                            "width": 0.5
                          },
                          "pattern": {
                            "fillmode": "overlay",
                            "size": 10,
                            "solidity": 0.2
                          }
                        },
                        "type": "bar"
                      }
                    ],
                    "barpolar": [
                      {
                        "marker": {
                          "line": {
                            "color": "#E5ECF6",
                            "width": 0.5
                          },
                          "pattern": {
                            "fillmode": "overlay",
                            "size": 10,
                            "solidity": 0.2
                          }
                        },
                        "type": "barpolar"
                      }
                    ],
                    "carpet": [
                      {
                        "aaxis": {
                          "endlinecolor": "#2a3f5f",
                          "gridcolor": "white",
                          "linecolor": "white",
                          "minorgridcolor": "white",
                          "startlinecolor": "#2a3f5f"
                        },
                        "baxis": {
                          "endlinecolor": "#2a3f5f",
                          "gridcolor": "white",
                          "linecolor": "white",
                          "minorgridcolor": "white",
                          "startlinecolor": "#2a3f5f"
                        },
                        "type": "carpet"
                      }
                    ],
                    "choropleth": [
                      {
                        "colorbar": {
                          "outlinewidth": 0,
                          "ticks": ""
                        },
                        "type": "choropleth"
                      }
                    ],
                    "contour": [
                      {
                        "colorbar": {
                          "outlinewidth": 0,
                          "ticks": ""
                        },
                        "colorscale": [
                          [
                            0,
                            "#0d0887"
                          ],
                          [
                            0.1111111111111111,
                            "#46039f"
                          ],
                          [
                            0.2222222222222222,
                            "#7201a8"
                          ],
                          [
                            0.3333333333333333,
                            "#9c179e"
                          ],
                          [
                            0.4444444444444444,
                            "#bd3786"
                          ],
                          [
                            0.5555555555555556,
                            "#d8576b"
                          ],
                          [
                            0.6666666666666666,
                            "#ed7953"
                          ],
                          [
                            0.7777777777777778,
                            "#fb9f3a"
                          ],
                          [
                            0.8888888888888888,
                            "#fdca26"
                          ],
                          [
                            1,
                            "#f0f921"
                          ]
                        ],
                        "type": "contour"
                      }
                    ],
                    "contourcarpet": [
                      {
                        "colorbar": {
                          "outlinewidth": 0,
                          "ticks": ""
                        },
                        "type": "contourcarpet"
                      }
                    ],
                    "heatmap": [
                      {
                        "colorbar": {
                          "outlinewidth": 0,
                          "ticks": ""
                        },
                        "colorscale": [
                          [
                            0,
                            "#0d0887"
                          ],
                          [
                            0.1111111111111111,
                            "#46039f"
                          ],
                          [
                            0.2222222222222222,
                            "#7201a8"
                          ],
                          [
                            0.3333333333333333,
                            "#9c179e"
                          ],
                          [
                            0.4444444444444444,
                            "#bd3786"
                          ],
                          [
                            0.5555555555555556,
                            "#d8576b"
                          ],
                          [
                            0.6666666666666666,
                            "#ed7953"
                          ],
                          [
                            0.7777777777777778,
                            "#fb9f3a"
                          ],
                          [
                            0.8888888888888888,
                            "#fdca26"
                          ],
                          [
                            1,
                            "#f0f921"
                          ]
                        ],
                        "type": "heatmap"
                      }
                    ],
                    "heatmapgl": [
                      {
                        "colorbar": {
                          "outlinewidth": 0,
                          "ticks": ""
                        },
                        "colorscale": [
                          [
                            0,
                            "#0d0887"
                          ],
                          [
                            0.1111111111111111,
                            "#46039f"
                          ],
                          [
                            0.2222222222222222,
                            "#7201a8"
                          ],
                          [
                            0.3333333333333333,
                            "#9c179e"
                          ],
                          [
                            0.4444444444444444,
                            "#bd3786"
                          ],
                          [
                            0.5555555555555556,
                            "#d8576b"
                          ],
                          [
                            0.6666666666666666,
                            "#ed7953"
                          ],
                          [
                            0.7777777777777778,
                            "#fb9f3a"
                          ],
                          [
                            0.8888888888888888,
                            "#fdca26"
                          ],
                          [
                            1,
                            "#f0f921"
                          ]
                        ],
                        "type": "heatmapgl"
                      }
                    ],
                    "histogram": [
                      {
                        "marker": {
                          "pattern": {
                            "fillmode": "overlay",
                            "size": 10,
                            "solidity": 0.2
                          }
                        },
                        "type": "histogram"
                      }
                    ],
                    "histogram2d": [
                      {
                        "colorbar": {
                          "outlinewidth": 0,
                          "ticks": ""
                        },
                        "colorscale": [
                          [
                            0,
                            "#0d0887"
                          ],
                          [
                            0.1111111111111111,
                            "#46039f"
                          ],
                          [
                            0.2222222222222222,
                            "#7201a8"
                          ],
                          [
                            0.3333333333333333,
                            "#9c179e"
                          ],
                          [
                            0.4444444444444444,
                            "#bd3786"
                          ],
                          [
                            0.5555555555555556,
                            "#d8576b"
                          ],
                          [
                            0.6666666666666666,
                            "#ed7953"
                          ],
                          [
                            0.7777777777777778,
                            "#fb9f3a"
                          ],
                          [
                            0.8888888888888888,
                            "#fdca26"
                          ],
                          [
                            1,
                            "#f0f921"
                          ]
                        ],
                        "type": "histogram2d"
                      }
                    ],
                    "histogram2dcontour": [
                      {
                        "colorbar": {
                          "outlinewidth": 0,
                          "ticks": ""
                        },
                        "colorscale": [
                          [
                            0,
                            "#0d0887"
                          ],
                          [
                            0.1111111111111111,
                            "#46039f"
                          ],
                          [
                            0.2222222222222222,
                            "#7201a8"
                          ],
                          [
                            0.3333333333333333,
                            "#9c179e"
                          ],
                          [
                            0.4444444444444444,
                            "#bd3786"
                          ],
                          [
                            0.5555555555555556,
                            "#d8576b"
                          ],
                          [
                            0.6666666666666666,
                            "#ed7953"
                          ],
                          [
                            0.7777777777777778,
                            "#fb9f3a"
                          ],
                          [
                            0.8888888888888888,
                            "#fdca26"
                          ],
                          [
                            1,
                            "#f0f921"
                          ]
                        ],
                        "type": "histogram2dcontour"
                      }
                    ],
                    "mesh3d": [
                      {
                        "colorbar": {
                          "outlinewidth": 0,
                          "ticks": ""
                        },
                        "type": "mesh3d"
                      }
                    ],
                    "parcoords": [
                      {
                        "line": {
                          "colorbar": {
                            "outlinewidth": 0,
                            "ticks": ""
                          }
                        },
                        "type": "parcoords"
                      }
                    ],
                    "pie": [
                      {
                        "automargin": true,
                        "type": "pie"
                      }
                    ],
                    "scatter": [
                      {
                        "fillpattern": {
                          "fillmode": "overlay",
                          "size": 10,
                          "solidity": 0.2
                        },
                        "type": "scatter"
                      }
                    ],
                    "scatter3d": [
                      {
                        "line": {
                          "colorbar": {
                            "outlinewidth": 0,
                            "ticks": ""
                          }
                        },
                        "marker": {
                          "colorbar": {
                            "outlinewidth": 0,
                            "ticks": ""
                          }
                        },
                        "type": "scatter3d"
                      }
                    ],
                    "scattercarpet": [
                      {
                        "marker": {
                          "colorbar": {
                            "outlinewidth": 0,
                            "ticks": ""
                          }
                        },
                        "type": "scattercarpet"
                      }
                    ],
                    "scattergeo": [
                      {
                        "marker": {
                          "colorbar": {
                            "outlinewidth": 0,
                            "ticks": ""
                          }
                        },
                        "type": "scattergeo"
                      }
                    ],
                    "scattergl": [
                      {
                        "marker": {
                          "colorbar": {
                            "outlinewidth": 0,
                            "ticks": ""
                          }
                        },
                        "type": "scattergl"
                      }
                    ],
                    "scattermapbox": [
                      {
                        "marker": {
                          "colorbar": {
                            "outlinewidth": 0,
                            "ticks": ""
                          }
                        },
                        "type": "scattermapbox"
                      }
                    ],
                    "scatterpolar": [
                      {
                        "marker": {
                          "colorbar": {
                            "outlinewidth": 0,
                            "ticks": ""
                          }
                        },
                        "type": "scatterpolar"
                      }
                    ],
                    "scatterpolargl": [
                      {
                        "marker": {
                          "colorbar": {
                            "outlinewidth": 0,
                            "ticks": ""
                          }
                        },
                        "type": "scatterpolargl"
                      }
                    ],
                    "scatterternary": [
                      {
                        "marker": {
                          "colorbar": {
                            "outlinewidth": 0,
                            "ticks": ""
                          }
                        },
                        "type": "scatterternary"
                      }
                    ],
                    "surface": [
                      {
                        "colorbar": {
                          "outlinewidth": 0,
                          "ticks": ""
                        },
                        "colorscale": [
                          [
                            0,
                            "#0d0887"
                          ],
                          [
                            0.1111111111111111,
                            "#46039f"
                          ],
                          [
                            0.2222222222222222,
                            "#7201a8"
                          ],
                          [
                            0.3333333333333333,
                            "#9c179e"
                          ],
                          [
                            0.4444444444444444,
                            "#bd3786"
                          ],
                          [
                            0.5555555555555556,
                            "#d8576b"
                          ],
                          [
                            0.6666666666666666,
                            "#ed7953"
                          ],
                          [
                            0.7777777777777778,
                            "#fb9f3a"
                          ],
                          [
                            0.8888888888888888,
                            "#fdca26"
                          ],
                          [
                            1,
                            "#f0f921"
                          ]
                        ],
                        "type": "surface"
                      }
                    ],
                    "table": [
                      {
                        "cells": {
                          "fill": {
                            "color": "#EBF0F8"
                          },
                          "line": {
                            "color": "white"
                          }
                        },
                        "header": {
                          "fill": {
                            "color": "#C8D4E3"
                          },
                          "line": {
                            "color": "white"
                          }
                        },
                        "type": "table"
                      }
                    ]
                  },
                  "layout": {
                    "annotationdefaults": {
                      "arrowcolor": "#2a3f5f",
                      "arrowhead": 0,
                      "arrowwidth": 1
                    },
                    "autotypenumbers": "strict",
                    "coloraxis": {
                      "colorbar": {
                        "outlinewidth": 0,
                        "ticks": ""
                      }
                    },
                    "colorscale": {
                      "diverging": [
                        [
                          0,
                          "#8e0152"
                        ],
                        [
                          0.1,
                          "#c51b7d"
                        ],
                        [
                          0.2,
                          "#de77ae"
                        ],
                        [
                          0.3,
                          "#f1b6da"
                        ],
                        [
                          0.4,
                          "#fde0ef"
                        ],
                        [
                          0.5,
                          "#f7f7f7"
                        ],
                        [
                          0.6,
                          "#e6f5d0"
                        ],
                        [
                          0.7,
                          "#b8e186"
                        ],
                        [
                          0.8,
                          "#7fbc41"
                        ],
                        [
                          0.9,
                          "#4d9221"
                        ],
                        [
                          1,
                          "#276419"
                        ]
                      ],
                      "sequential": [
                        [
                          0,
                          "#0d0887"
                        ],
                        [
                          0.1111111111111111,
                          "#46039f"
                        ],
                        [
                          0.2222222222222222,
                          "#7201a8"
                        ],
                        [
                          0.3333333333333333,
                          "#9c179e"
                        ],
                        [
                          0.4444444444444444,
                          "#bd3786"
                        ],
                        [
                          0.5555555555555556,
                          "#d8576b"
                        ],
                        [
                          0.6666666666666666,
                          "#ed7953"
                        ],
                        [
                          0.7777777777777778,
                          "#fb9f3a"
                        ],
                        [
                          0.8888888888888888,
                          "#fdca26"
                        ],
                        [
                          1,
                          "#f0f921"
                        ]
                      ],
                      "sequentialminus": [
                        [
                          0,
                          "#0d0887"
                        ],
                        [
                          0.1111111111111111,
                          "#46039f"
                        ],
                        [
                          0.2222222222222222,
                          "#7201a8"
                        ],
                        [
                          0.3333333333333333,
                          "#9c179e"
                        ],
                        [
                          0.4444444444444444,
                          "#bd3786"
                        ],
                        [
                          0.5555555555555556,
                          "#d8576b"
                        ],
                        [
                          0.6666666666666666,
                          "#ed7953"
                        ],
                        [
                          0.7777777777777778,
                          "#fb9f3a"
                        ],
                        [
                          0.8888888888888888,
                          "#fdca26"
                        ],
                        [
                          1,
                          "#f0f921"
                        ]
                      ]
                    },
                    "colorway": [
                      "#636efa",
                      "#EF553B",
                      "#00cc96",
                      "#ab63fa",
                      "#FFA15A",
                      "#19d3f3",
                      "#FF6692",
                      "#B6E880",
                      "#FF97FF",
                      "#FECB52"
                    ],
                    "font": {
                      "color": "#2a3f5f"
                    },
                    "geo": {
                      "bgcolor": "white",
                      "lakecolor": "white",
                      "landcolor": "#E5ECF6",
                      "showlakes": true,
                      "showland": true,
                      "subunitcolor": "white"
                    },
                    "hoverlabel": {
                      "align": "left"
                    },
                    "hovermode": "closest",
                    "mapbox": {
                      "style": "light"
                    },
                    "paper_bgcolor": "white",
                    "plot_bgcolor": "#E5ECF6",
                    "polar": {
                      "angularaxis": {
                        "gridcolor": "white",
                        "linecolor": "white",
                        "ticks": ""
                      },
                      "bgcolor": "#E5ECF6",
                      "radialaxis": {
                        "gridcolor": "white",
                        "linecolor": "white",
                        "ticks": ""
                      }
                    },
                    "scene": {
                      "xaxis": {
                        "backgroundcolor": "#E5ECF6",
                        "gridcolor": "white",
                        "gridwidth": 2,
                        "linecolor": "white",
                        "showbackground": true,
                        "ticks": "",
                        "zerolinecolor": "white"
                      },
                      "yaxis": {
                        "backgroundcolor": "#E5ECF6",
                        "gridcolor": "white",
                        "gridwidth": 2,
                        "linecolor": "white",
                        "showbackground": true,
                        "ticks": "",
                        "zerolinecolor": "white"
                      },
                      "zaxis": {
                        "backgroundcolor": "#E5ECF6",
                        "gridcolor": "white",
                        "gridwidth": 2,
                        "linecolor": "white",
                        "showbackground": true,
                        "ticks": "",
                        "zerolinecolor": "white"
                      }
                    },
                    "shapedefaults": {
                      "line": {
                        "color": "#2a3f5f"
                      }
                    },
                    "ternary": {
                      "aaxis": {
                        "gridcolor": "white",
                        "linecolor": "white",
                        "ticks": ""
                      },
                      "baxis": {
                        "gridcolor": "white",
                        "linecolor": "white",
                        "ticks": ""
                      },
                      "bgcolor": "#E5ECF6",
                      "caxis": {
                        "gridcolor": "white",
                        "linecolor": "white",
                        "ticks": ""
                      }
                    },
                    "title": {
                      "x": 0.05
                    },
                    "xaxis": {
                      "automargin": true,
                      "gridcolor": "white",
                      "linecolor": "white",
                      "ticks": "",
                      "title": {
                        "standoff": 15
                      },
                      "zerolinecolor": "white",
                      "zerolinewidth": 2
                    },
                    "yaxis": {
                      "automargin": true,
                      "gridcolor": "white",
                      "linecolor": "white",
                      "ticks": "",
                      "title": {
                        "standoff": 15
                      },
                      "zerolinecolor": "white",
                      "zerolinewidth": 2
                    }
                  }
                },
                "width": 900
              }
            }
          },
          "metadata": {},
          "output_type": "display_data"
        }
      ],
      "source": [
        "#Pintar solución :D\n",
        "problema.pintar_camino(camino_final)"
      ]
    },
    {
      "cell_type": "markdown",
      "id": "nElA2bokafR6",
      "metadata": {
        "id": "nElA2bokafR6"
      },
      "source": [
        "#TIEMPOS UWU"
      ]
    },
    {
      "cell_type": "code",
      "execution_count": 21,
      "id": "xQhVq-Kaaeza",
      "metadata": {
        "id": "xQhVq-Kaaeza"
      },
      "outputs": [],
      "source": [
        "funs = [\n",
        "    lambda x: breadth_first_search(x),\n",
        "    lambda x: depth_first_search(x),\n",
        "    lambda x: depth_limited_search(x,10),\n",
        "    lambda x: iterative_deepening_search(x, 500),\n",
        "    lambda x: best_first_search(x),\n",
        "    lambda x: greedy_search(x, f=x.distancia_faltante),\n",
        "    lambda x: A_star(x, f=x.distancia_faltante, g = None),\n",
        "]\n",
        "nombres = [\n",
        "    'breadth_first',\n",
        "    'depth_first',\n",
        "    'depth_limited',\n",
        "    'iterative_deepening',\n",
        "    'best_search', \n",
        "    'greedy',\n",
        "    'A*',\n",
        "]\n",
        "\n",
        "#PONERLE EL RANDOM DE CIUDADES :0\n",
        "viaje = Vendedor('Santa fe')\n",
        "ciudades = viaje.rutas.keys()"
      ]
    },
    {
      "cell_type": "code",
      "execution_count": 22,
      "id": "j0oVSgtIMUWe",
      "metadata": {
        "colab": {
          "base_uri": "https://localhost:8080/",
          "height": 1000
        },
        "id": "j0oVSgtIMUWe",
        "outputId": "00783b0f-d132-4a2d-a77b-c21e5a799c47"
      },
      "outputs": [
        {
          "name": "stdout",
          "output_type": "stream",
          "text": [
            "               sum_sq      df            F  PR(>F)\n",
            "C(Función)  16.258741     6.0  1586.320876     0.0\n",
            "Residual     2.379555  1393.0          NaN     NaN\n"
          ]
        },
        {
          "data": {
            "image/png": "[encoded data removed]",
            "text/plain": [
              "<Figure size 1512x216 with 1 Axes>"
            ]
          },
          "metadata": {
            "needs_background": "light"
          },
          "output_type": "display_data"
        }
      ],
      "source": [
        "inicio = [random.choice(list(ciudades)) for _ in range(20)]\n",
        "args = [Vendedor(localidad) for localidad in inicio]\n",
        "\n",
        "#Comparacion de funciones :D\n",
        "data = compara_funciones_sobreargumentos(funs=funs, args=args, nombres=nombres)\n",
        "\n",
        "# Graficando\n",
        "fig, ax = plt.subplots(1,1, figsize=(3*len(funs),3), tight_layout=True)\n",
        "sns.boxplot(data=data, x='Función', y='Tiempo')\n",
        "sns.swarmplot(data=data, x='Función', y='Tiempo', color='black', alpha = 0.5, ax=ax);\n",
        "# Anova diferencia de medias\n",
        "model = ols('Tiempo ~ C(Función)', data=data).fit()\n",
        "anova_table = sm.stats.anova_lm(model, typ=2)\n",
        "print(anova_table)"
      ]
    },
    {
      "cell_type": "code",
      "execution_count": 29,
      "id": "TnC7A3mSNhv-",
      "metadata": {
        "id": "TnC7A3mSNhv-"
      },
      "outputs": [
        {
          "name": "stdout",
          "output_type": "stream",
          "text": [
            "              sum_sq     df           F        PR(>F)\n",
            "C(Función)  0.000084    3.0  109.723147  1.844513e-59\n",
            "Residual    0.000203  796.0         NaN           NaN\n"
          ]
        },
        {
          "data": {
            "image/png": "[encoded data removed]",
            "text/plain": [
              "<Figure size 1512x216 with 1 Axes>"
            ]
          },
          "metadata": {
            "needs_background": "light"
          },
          "output_type": "display_data"
        }
      ],
      "source": [
        "data2 = data[data['Función'].isin(['depth_first', 'depth_limited', 'greedy', 'A*'])]\n",
        "\n",
        "# Graficando\n",
        "fig, ax = plt.subplots(1,1, figsize=(3*len(funs),3), tight_layout=True)\n",
        "sns.boxplot(data=data2, x='Función', y='Tiempo')\n",
        "sns.swarmplot(data=data2, x='Función', y='Tiempo', color='black', alpha = 0.5, ax=ax);\n",
        "# Anova diferencia de medias\n",
        "model = ols('Tiempo ~ C(Función)', data=data2).fit()\n",
        "anova_table = sm.stats.anova_lm(model, typ=2)\n",
        "print(anova_table)"
      ]
    },
    {
      "cell_type": "code",
      "execution_count": 30,
      "id": "682c960b",
      "metadata": {},
      "outputs": [
        {
          "name": "stdout",
          "output_type": "stream",
          "text": [
            "                  sum_sq     df         F    PR(>F)\n",
            "C(Función)  6.227822e-09    1.0  0.051107  0.821263\n",
            "Residual    4.849926e-05  398.0       NaN       NaN\n"
          ]
        },
        {
          "data": {
            "image/png": "[encoded data removed]",
            "text/plain": [
              "<Figure size 1512x216 with 1 Axes>"
            ]
          },
          "metadata": {
            "needs_background": "light"
          },
          "output_type": "display_data"
        }
      ],
      "source": [
        "data3 = data[data['Función'].isin(['depth_first', 'depth_limited'])]\n",
        "\n",
        "# Graficando\n",
        "fig, ax = plt.subplots(1,1, figsize=(3*len(funs),3), tight_layout=True)\n",
        "sns.boxplot(data=data3, x='Función', y='Tiempo')\n",
        "sns.swarmplot(data=data3, x='Función', y='Tiempo', color='black', alpha = 0.5, ax=ax);\n",
        "# Anova diferencia de medias\n",
        "model = ols('Tiempo ~ C(Función)', data=data3).fit()\n",
        "anova_table = sm.stats.anova_lm(model, typ=2)\n",
        "print(anova_table)"
      ]
    },
    {
      "cell_type": "code",
      "execution_count": 31,
      "id": "c977c28b",
      "metadata": {},
      "outputs": [
        {
          "name": "stdout",
          "output_type": "stream",
          "text": [
            "              sum_sq     df           F        PR(>F)\n",
            "C(Función)  0.000084    3.0  109.723147  1.844513e-59\n",
            "Residual    0.000203  796.0         NaN           NaN\n"
          ]
        },
        {
          "data": {
            "image/png": "[encoded data removed]",
            "text/plain": [
              "<Figure size 1512x216 with 1 Axes>"
            ]
          },
          "metadata": {
            "needs_background": "light"
          },
          "output_type": "display_data"
        }
      ],
      "source": [
        "data4 = data[data['Función'].isin(['breadth_first', 'iterative_deepening', 'best_search'])]\n",
        "\n",
        "# Graficando\n",
        "fig, ax = plt.subplots(1,1, figsize=(3*len(funs),3), tight_layout=True)\n",
        "sns.boxplot(data=data4, x='Función', y='Tiempo')\n",
        "sns.swarmplot(data=data4, x='Función', y='Tiempo', color='black', alpha = 0.5, ax=ax);\n",
        "# Anova diferencia de medias\n",
        "model = ols('Tiempo ~ C(Función)', data=data4).fit()\n",
        "anova_table = sm.stats.anova_lm(model, typ=2)\n",
        "print(anova_table)"
      ]
    }
  ],
  "metadata": {
    "colab": {
      "collapsed_sections": [],
      "name": "ambiente_ausilio.ipynb",
      "provenance": []
    },
    "kernelspec": {
      "display_name": "Python 3 (ipykernel)",
      "language": "python",
      "name": "python3"
    },
    "language_info": {
      "codemirror_mode": {
        "name": "ipython",
        "version": 3
      },
      "file_extension": ".py",
      "mimetype": "text/x-python",
      "name": "python",
      "nbconvert_exporter": "python",
      "pygments_lexer": "ipython3",
      "version": "3.9.13"
    },
    "vscode": {
      "interpreter": {
        "hash": "98c3f5e3c54421f1ff8156469e737cf43d5200122fae298a2345040dcbd5c681"
      }
    }
  },
  "nbformat": 4,
  "nbformat_minor": 5
}
